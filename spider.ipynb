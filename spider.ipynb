{
 "cells": [
  {
   "cell_type": "code",
   "execution_count": 1,
   "id": "5c62d07f-8811-4680-90b7-4711b71fbe36",
   "metadata": {},
   "outputs": [],
   "source": [
    "import requests\n",
    "from bs4 import BeautifulSoup\n",
    "import csv\n",
    "import time"
   ]
  },
  {
   "cell_type": "code",
   "execution_count": 40,
   "id": "f6c94e62-e541-4cc8-ae9f-2f6fbc89a55a",
   "metadata": {},
   "outputs": [
    {
     "name": "stdout",
     "output_type": "stream",
     "text": [
      "成功存取第 1 筆\n",
      "何謂證券業務借貸款項？\n",
      "------------------------\n",
      "指證券商與客戶約定，為因應客戶購買有價證券或其他商品之需，所從事之資金融通業務。證券商辦理客戶借貸款項業務，應訂定借貸款項契約書，依契約書約定事項執行，以明雙方權利及義務。\n",
      "成功存取第 2 筆\n",
      "T+5型借貸款項與半年型借貸款項之區別？\n",
      "------------------------\n",
      "T+5型係以客戶買進之證券為擔保，借貸期間為成交日次二至次五營業日(T+2~T+5)，客戶應於成交日次二營業日上午11時前提出申請。半年型借貸款項客戶可以其持有之有價證券為擔保，借貸期限不超過6個月，證券商並得視客戶信用狀況展延二次，故最長為18個月，客戶應於買進證券成交日次一營業日上午12時前提出申請。\n",
      "成功存取第 3 筆\n",
      "客戶申請證券業務借貸款項可融通之金額如何計算？\n",
      "------------------------\n",
      "融通金額以每一客戶成交日買進、賣出證券價金相抵後之應付價金、相關手續費及稅負為限。此外，證券商仍應依徵信程序核定客戶得融通額度，且客戶應提供其所申請總授信額度百分之三十以上之財產證明。\n",
      "成功存取第 4 筆\n",
      "華僑及外國人是否可以申請證券業務借貸款項及不限用途款項借貸？\n",
      "------------------------\n",
      "境內外華僑及外國人均可申請證券業務借貸款項；不限用途款項借貸則僅開放境內之華僑及外國人申請。\n",
      "成功存取第 5 筆\n",
      "投資人是否可以賣出其所買進證券方式償還融通款項？\n",
      "------------------------\n",
      "可以，且若投資人係以其買進證券為擔保者，於融通期限屆滿前賣出者，均應優先償還其借貸款項。\n",
      "成功存取第 6 筆\n",
      "融通期限屆滿未清償之處理？\n",
      "------------------------\n",
      "證券商應依操作辦法第27條規定，處分客戶該筆借貸之擔保品及抵繳之有價證券或其他商品，有不足者應通知客戶次一營業日補足，未補足者證券商得於債務清償必要範圍內處分客戶提供之其他擔保品，尚不足部分通知客戶限期清償，未結清者即為違規。\n",
      "成功存取第 7 筆\n",
      "何謂不限用途款項借貸？\n",
      "------------------------\n",
      "指證券商與客戶約定，以客戶持有之有價證券或其他商品為擔保，所從事之資金融通業務，融通期限以6個月為限，證券商並得視客戶信用狀況展延二次。\n",
      "成功存取第 8 筆\n",
      "投資人可否採非當面方式辦理不限用途款項借貸？\n",
      "------------------------\n",
      "可以，惟應簽具款項借貸申請免簽章同意書，經證券商確認並留存，據以辦理借貸申請。\n",
      "成功存取第 9 筆\n",
      "不限用途款項借貸之擔保維持率如何計算？\n",
      "------------------------\n",
      "採投資人整戶歸戶計算。擔保維持率＝（擔保品市值＋補繳擔保品市值）÷（融通金額）× 100 ％。\n",
      "成功存取第 10 筆\n",
      "如何查詢有價證券或其他商品是否可申請款項借貸及是否達限額？\n",
      "------------------------\n",
      "證交所官網首頁 > 產品與服務 > 證券商服務 > 證券業務借貸款項及不限用途款項借貸 > 擔保品管制餘額 （亦請參閱最後一欄備註，備註符號說明可於該表下方查看）。\n",
      "成功存取第 11 筆\n",
      "證券商辦理不限用途款項借貸業務與證券業務借貸款項之個股擔保品總量上限規定?\n",
      "------------------------\n",
      "依證券商辦理不限用途款項借貸業務操作辦法第32條第一項規定，證券商辦理不限用途款項借貸業務與證券業務借貸款項合計，每種得為款項借貸融通擔保品之有價證券或受益憑證，證券商合計融通餘額不得超過該種證券上市或上櫃股份或受益權單位數之5%，且不限用途款項借貸業務與證券業務借貸款項、信用交易業務融資餘額及證券金融事業辦理有價證券交割款項之融通或融資餘額合併計算不得超過該種證券上市或上櫃股份或受益權單位數之25%。\n",
      "惟為顧及證券商業務需求，上開與證券業務借貸款項合併融通餘額如達上市或上櫃股數或受益權單位數之5%之證券，得由本公司就不限用途款項借貸業務再增加5%之額度。亦即每種得為證券業務借貸款項及不限用途款項借貸業務擔保品之有價證券或受益憑證，不得超過該種證券上市或上櫃股份或受益權單位數之10%，前開規定係經主管機關於105年3月10日金管證券字第1050005108號函核准在案，配合電腦作業規畫時程，自105年5月3日起實施。\n"
     ]
    }
   ],
   "source": [
    "def get_QA_content(id_number):\n",
    "    url = \"https://investoredu.twse.com.tw/pages/TWSE_InvestmentQA.aspx?ID=15\"\n",
    "    resp = requests.get(url)\n",
    "    soup = BeautifulSoup(resp.text, \"html.parser\")\n",
    "\n",
    "    base = \"ContentPlaceHolder1_\"\n",
    "    ids = {\n",
    "        \"question\": f\"{base}Label1_{id_number}\",\n",
    "        \"answer\": f\"{base}Label2_{id_number}\",\n",
    "        \"url_label\": f\"{base}lblURL1_{id_number}\",\n",
    "        \"url\": f\"{base}hplURL1_{id_number}\",\n",
    "    }\n",
    "\n",
    "    def safe_get(id_, is_url=False):\n",
    "        tag = soup.find(id=id_)\n",
    "        if not tag:\n",
    "            return \"\"\n",
    "        return tag[\"href\"].strip() if is_url else tag.get_text(strip=True)\n",
    "\n",
    "    question = safe_get(ids[\"question\"])\n",
    "    answer_main = safe_get(ids[\"answer\"])\n",
    "    url_label = safe_get(ids[\"url_label\"])\n",
    "    url = safe_get(ids[\"url\"], is_url=True)\n",
    "\n",
    "    answer_parts = [answer_main]\n",
    "    if url_label:\n",
    "        answer_parts.append(url_label)\n",
    "    if url:\n",
    "        answer_parts.append(url)\n",
    "\n",
    "    final_answer = \"\\n\".join(answer_parts).strip()\n",
    "\n",
    "    return {\n",
    "        \"問題\": question,\n",
    "        \"答案\": final_answer\n",
    "    }\n",
    "\n",
    "all_qa = []\n",
    "for i in range(11):\n",
    "    try:\n",
    "        data = get_QA_content(i)\n",
    "        if data[\"問題\"] or data[\"答案\"]:\n",
    "            all_qa.append(data)\n",
    "            print(f\"成功存取第 {i + 1} 筆\")\n",
    "            print(data[\"問題\"])\n",
    "            print(\"------------------------\")\n",
    "            print(data[\"答案\"])\n",
    "        else:\n",
    "            print(f\"第 {i} 筆無資料\")\n",
    "    except Exception as e:\n",
    "        print(f\"第{i} 筆錯誤: {e}\")\n",
    "    time.sleep(1)\n",
    "\n",
    "df_original = pd.read_csv(\"twse.csv\")\n",
    "# 轉為 DataFrame\n",
    "df_new = pd.DataFrame(all_qa)\n",
    "\n",
    "# 合併舊 + 新資料\n",
    "df_merged = pd.concat([df_original, df_new], ignore_index=True)\n",
    "\n",
    "# 存回原本的檔案（或另存新檔）\n",
    "df_merged.to_csv(\"twse.csv\", index=False, encoding=\"utf-8-sig\")\n",
    "\n",
    "    "
   ]
  },
  {
   "cell_type": "code",
   "execution_count": 42,
   "id": "fa5f6e59-962d-4817-8532-52761ca8e8e2",
   "metadata": {},
   "outputs": [
    {
     "name": "stdout",
     "output_type": "stream",
     "text": [
      "指證券商與客戶約定，為因應客戶購買有價證券或其他商品之需，所從事之資金融通業務。證券商辦理客戶借貸款項業務，應訂定借貸款項契約書，依契約書約定事項執行，以明雙方權利及義務。\n"
     ]
    }
   ],
   "source": [
    "# 展示抓下來的答案\n",
    "data = get_QA_content(0)\n",
    "print(data[\"答案\"])"
   ]
  },
  {
   "cell_type": "code",
   "execution_count": 41,
   "id": "e4f20f8f-42e8-431c-87bc-c7a93d01c237",
   "metadata": {},
   "outputs": [],
   "source": [
    "import pandas as pd\n",
    "\n",
    "#合併先前存取的內容\n",
    "files = [\"twse.csv\", \"stock.csv\"]\n",
    "\n",
    "dfs = [pd.read_csv(f)[[\"問題\", \"答案\"]] for f in files]\n",
    "merged_df = pd.concat(dfs, ignore_index=True)\n",
    "merged_df.to_csv(\"twse.csv\", index=False, encoding=\"utf-8-sig\")\n"
   ]
  },
  {
   "cell_type": "code",
   "execution_count": null,
   "id": "b18921e2-cc2c-4bff-8bfe-4186e00d06b6",
   "metadata": {},
   "outputs": [],
   "source": []
  }
 ],
 "metadata": {
  "kernelspec": {
   "display_name": "Python 3 (ipykernel)",
   "language": "python",
   "name": "python3"
  },
  "language_info": {
   "codemirror_mode": {
    "name": "ipython",
    "version": 3
   },
   "file_extension": ".py",
   "mimetype": "text/x-python",
   "name": "python",
   "nbconvert_exporter": "python",
   "pygments_lexer": "ipython3",
   "version": "3.13.2"
  }
 },
 "nbformat": 4,
 "nbformat_minor": 5
}
